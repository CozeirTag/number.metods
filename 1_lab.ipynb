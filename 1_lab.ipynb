{
 "cells": [
  {
   "cell_type": "markdown",
   "metadata": {
    "id": "95eEwaOm2xV0"
   },
   "source": [
    "# $$\\int \\limits_{0}^{1}x^{n}e^{x - 1}dx $$"
   ]
  },
  {
   "cell_type": "code",
   "execution_count": 1,
   "metadata": {
    "executionInfo": {
     "elapsed": 304,
     "status": "ok",
     "timestamp": 1731865175641,
     "user": {
      "displayName": "Александр Кутарев",
      "userId": "04342392924491957212"
     },
     "user_tz": -180
    },
    "id": "T8_OnMtqdajg"
   },
   "outputs": [],
   "source": [
    "import math\n",
    "import scipy.integrate as inte\n",
    "import numpy as np\n",
    "from decimal import *"
   ]
  },
  {
   "cell_type": "code",
   "execution_count": 2,
   "metadata": {
    "executionInfo": {
     "elapsed": 1,
     "status": "ok",
     "timestamp": 1731865175901,
     "user": {
      "displayName": "Александр Кутарев",
      "userId": "04342392924491957212"
     },
     "user_tz": -180
    },
    "id": "xpDSNRzge3R6"
   },
   "outputs": [],
   "source": [
    "def Jn_integrate():\n",
    "  return Decimal(inte.quad(lambda x: x**15 * math.exp(x - 1), 0, 1)[0])"
   ]
  },
  {
   "cell_type": "code",
   "execution_count": 3,
   "metadata": {
    "executionInfo": {
     "elapsed": 264,
     "status": "ok",
     "timestamp": 1731865288293,
     "user": {
      "displayName": "Александр Кутарев",
      "userId": "04342392924491957212"
     },
     "user_tz": -180
    },
    "id": "mMPvF1uuNJD9"
   },
   "outputs": [],
   "source": [
    "toch = 18"
   ]
  },
  {
   "cell_type": "code",
   "execution_count": 4,
   "metadata": {
    "executionInfo": {
     "elapsed": 1,
     "status": "ok",
     "timestamp": 1731865266359,
     "user": {
      "displayName": "Александр Кутарев",
      "userId": "04342392924491957212"
     },
     "user_tz": -180
    },
    "id": "FY8hQIfOgN3i"
   },
   "outputs": [],
   "source": [
    "def Jn_recur(Jn, n, check):\n",
    "  getcontext().prec = toch\n",
    "  if n != check:\n",
    "    return Jn_recur(1 - (n + 1) * Jn, n + 1, check)\n",
    "  else:\n",
    "    return 1 - (n + 1) * Jn"
   ]
  },
  {
   "cell_type": "code",
   "execution_count": 5,
   "metadata": {
    "colab": {
     "base_uri": "https://localhost:8080/"
    },
    "executionInfo": {
     "elapsed": 6,
     "status": "ok",
     "timestamp": 1731865266687,
     "user": {
      "displayName": "Александр Кутарев",
      "userId": "04342392924491957212"
     },
     "user_tz": -180
    },
    "id": "vmPf2RKvfdUj",
    "outputId": "c6ce5c98-2938-4bea-d750-30b0ae3255a7"
   },
   "outputs": [
    {
     "data": {
      "text/plain": [
       "Decimal('0.059017540879297801514891119722960866056382656097412109375')"
      ]
     },
     "execution_count": 5,
     "metadata": {},
     "output_type": "execute_result"
    }
   ],
   "source": [
    "Jn_integrate()"
   ]
  },
  {
   "cell_type": "code",
   "execution_count": 6,
   "metadata": {
    "executionInfo": {
     "elapsed": 4,
     "status": "ok",
     "timestamp": 1731865266687,
     "user": {
      "displayName": "Александр Кутарев",
      "userId": "04342392924491957212"
     },
     "user_tz": -180
    },
    "id": "F4DaVqLil6wG"
   },
   "outputs": [],
   "source": [
    "J1 = Decimal(1 / math.exp(1))"
   ]
  },
  {
   "cell_type": "code",
   "execution_count": 7,
   "metadata": {
    "colab": {
     "base_uri": "https://localhost:8080/"
    },
    "executionInfo": {
     "elapsed": 259,
     "status": "ok",
     "timestamp": 1731865276598,
     "user": {
      "displayName": "Александр Кутарев",
      "userId": "04342392924491957212"
     },
     "user_tz": -180
    },
    "id": "VNpXv7tuffg5",
    "outputId": "3cef1e13-91a3-4d84-9b6e-6cb8b78d3bce"
   },
   "outputs": [
    {
     "data": {
      "text/plain": [
       "Decimal('0.055459809681408000')"
      ]
     },
     "execution_count": 7,
     "metadata": {},
     "output_type": "execute_result"
    }
   ],
   "source": [
    "getcontext().prec = toch\n",
    "Jn_recur(J1, 1, 15)"
   ]
  },
  {
   "cell_type": "code",
   "execution_count": 8,
   "metadata": {
    "colab": {
     "base_uri": "https://localhost:8080/"
    },
    "executionInfo": {
     "elapsed": 287,
     "status": "ok",
     "timestamp": 1731865252193,
     "user": {
      "displayName": "Александр Кутарев",
      "userId": "04342392924491957212"
     },
     "user_tz": -180
    },
    "id": "7FBqYR3kmMMm",
    "outputId": "ebb4c8d0-0897-4ee0-ed6f-7042a3d26c84"
   },
   "outputs": [
    {
     "data": {
      "text/plain": [
       "Decimal('0.00355773119788980151')"
      ]
     },
     "execution_count": 8,
     "metadata": {},
     "output_type": "execute_result"
    }
   ],
   "source": [
    "abs(Jn_recur(J1, 1, 15) - Jn_integrate())"
   ]
  },
  {
   "cell_type": "code",
   "execution_count": 9,
   "metadata": {
    "colab": {
     "base_uri": "https://localhost:8080/"
    },
    "executionInfo": {
     "elapsed": 272,
     "status": "ok",
     "timestamp": 1731863032498,
     "user": {
      "displayName": "Александр Кутарев",
      "userId": "04342392924491957212"
     },
     "user_tz": -180
    },
    "id": "48pcvat2nLYW",
    "outputId": "896f30cd-f5b3-4a79-915b-8fbad4ba31b2"
   },
   "outputs": [
    {
     "data": {
      "text/plain": [
       "1"
      ]
     },
     "execution_count": 9,
     "metadata": {},
     "output_type": "execute_result"
    }
   ],
   "source": [
    "n = 1\n",
    "getcontext().prec = n\n",
    "while abs(Jn_recur(J1, 1, 15) - Jn_integrate()) >= Decimal(10**-2):\n",
    "  getcontext().prec = n\n",
    "  n += 1\n",
    "n"
   ]
  },
  {
   "cell_type": "code",
   "execution_count": 10,
   "metadata": {
    "colab": {
     "base_uri": "https://localhost:8080/"
    },
    "executionInfo": {
     "elapsed": 278,
     "status": "ok",
     "timestamp": 1731863026244,
     "user": {
      "displayName": "Александр Кутарев",
      "userId": "04342392924491957212"
     },
     "user_tz": -180
    },
    "id": "j6rd8BZuFFaC",
    "outputId": "ac71ec4f-4323-44e6-ca6f-9d4bc642bde9"
   },
   "outputs": [
    {
     "data": {
      "text/plain": [
       "Decimal('0.00355773119788980151')"
      ]
     },
     "execution_count": 10,
     "metadata": {},
     "output_type": "execute_result"
    }
   ],
   "source": [
    "getcontext().prec = n\n",
    "abs(Jn_recur(J1, 1, 15) - Jn_integrate())"
   ]
  },
  {
   "cell_type": "markdown",
   "metadata": {
    "id": "F8p3s8Z24Dy2"
   },
   "source": [
    "# $$\\sin(x) = \\sum_{n=0}^{\\infty}a_{n}, a_{n}=(-1)^{n}\\frac{x^{2n+1}}{(2n+1)!}$$"
   ]
  },
  {
   "cell_type": "code",
   "execution_count": 21,
   "metadata": {
    "executionInfo": {
     "elapsed": 282,
     "status": "ok",
     "timestamp": 1731864762285,
     "user": {
      "displayName": "Александр Кутарев",
      "userId": "04342392924491957212"
     },
     "user_tz": -180
    },
    "id": "i8X8MfW-6zcX"
   },
   "outputs": [],
   "source": [
    "import math\n",
    "import matplotlib.pyplot as plt\n",
    "from decimal import *"
   ]
  },
  {
   "cell_type": "code",
   "execution_count": 22,
   "metadata": {
    "colab": {
     "base_uri": "https://localhost:8080/"
    },
    "executionInfo": {
     "elapsed": 420,
     "status": "ok",
     "timestamp": 1731864765556,
     "user": {
      "displayName": "Александр Кутарев",
      "userId": "04342392924491957212"
     },
     "user_tz": -180
    },
    "id": "53K7I_Cd0vFZ",
    "outputId": "31f2033e-2132-4efe-f392-6fc3232c3e5b"
   },
   "outputs": [
    {
     "data": {
      "text/plain": [
       "-0.26237485370392877"
      ]
     },
     "execution_count": 22,
     "metadata": {},
     "output_type": "execute_result"
    }
   ],
   "source": [
    "math.sin(50.0)"
   ]
  },
  {
   "cell_type": "code",
   "execution_count": 23,
   "metadata": {
    "executionInfo": {
     "elapsed": 2,
     "status": "ok",
     "timestamp": 1731864765556,
     "user": {
      "displayName": "Александр Кутарев",
      "userId": "04342392924491957212"
     },
     "user_tz": -180
    },
    "id": "8XE60GxD8Yfv"
   },
   "outputs": [],
   "source": [
    "def a_n(x, n):\n",
    "    getcontext().prec = 10\n",
    "    return (-1)**n * (x**(2*n + 1) / math.factorial(2*n + 1))"
   ]
  },
  {
   "cell_type": "code",
   "execution_count": 24,
   "metadata": {
    "executionInfo": {
     "elapsed": 1,
     "status": "ok",
     "timestamp": 1731864765556,
     "user": {
      "displayName": "Александр Кутарев",
      "userId": "04342392924491957212"
     },
     "user_tz": -180
    },
    "id": "0eIRt5QE-Cp0"
   },
   "outputs": [],
   "source": [
    "def mySIN(x, eps):\n",
    "    getcontext().prec = 10\n",
    "    n = 0\n",
    "    mysin = 0\n",
    "    while abs(a_n(x, n)) > eps:\n",
    "        mysin += a_n(x, n)\n",
    "        n += 1\n",
    "    return mysin, n"
   ]
  },
  {
   "cell_type": "code",
   "execution_count": 25,
   "metadata": {
    "executionInfo": {
     "elapsed": 2,
     "status": "ok",
     "timestamp": 1731864765908,
     "user": {
      "displayName": "Александр Кутарев",
      "userId": "04342392924491957212"
     },
     "user_tz": -180
    },
    "id": "FUW8LSi5A7JQ"
   },
   "outputs": [],
   "source": [
    "x = Decimal(50)\n",
    "eps = Decimal(10**-6)"
   ]
  },
  {
   "cell_type": "code",
   "execution_count": 26,
   "metadata": {
    "colab": {
     "base_uri": "https://localhost:8080/"
    },
    "executionInfo": {
     "elapsed": 2,
     "status": "ok",
     "timestamp": 1731864765908,
     "user": {
      "displayName": "Александр Кутарев",
      "userId": "04342392924491957212"
     },
     "user_tz": -180
    },
    "id": "imc65--q8-dw",
    "outputId": "03a9b781-22c2-432a-9faa-868df93ee63a"
   },
   "outputs": [
    {
     "data": {
      "text/plain": [
       "(Decimal('-4.284258426E+10'), 73)"
      ]
     },
     "execution_count": 26,
     "metadata": {},
     "output_type": "execute_result"
    }
   ],
   "source": [
    "mySIN(x, eps)"
   ]
  },
  {
   "cell_type": "code",
   "execution_count": 27,
   "metadata": {
    "executionInfo": {
     "elapsed": 2,
     "status": "ok",
     "timestamp": 1731864766705,
     "user": {
      "displayName": "Александр Кутарев",
      "userId": "04342392924491957212"
     },
     "user_tz": -180
    },
    "id": "ukcuUjlL-i6U"
   },
   "outputs": [],
   "source": [
    "_, n = mySIN(x, eps)"
   ]
  },
  {
   "cell_type": "code",
   "execution_count": 28,
   "metadata": {},
   "outputs": [
    {
     "data": {
      "text/plain": [
       "[<matplotlib.lines.Line2D at 0x2256e200410>]"
      ]
     },
     "execution_count": 28,
     "metadata": {},
     "output_type": "execute_result"
    },
    {
     "data": {
      "image/png": "[encoded data removed]",
      "text/plain": [
       "<Figure size 640x480 with 1 Axes>"
      ]
     },
     "metadata": {},
     "output_type": "display_data"
    }
   ],
   "source": [
    "S = [a_n(x, 0).log10()]\n",
    "for k in range(1, n + 1):\n",
    "  S.append(S[-1] + a_n(x, k))\n",
    "\n",
    "plt.plot([k for k in range(n + 1)], [math.log(abs(y)) for y in S])"
   ]
  },
  {
   "cell_type": "code",
   "execution_count": null,
   "metadata": {},
   "outputs": [],
   "source": []
  }
 ],
 "metadata": {
  "colab": {
   "authorship_tag": "ABX9TyMD7hfAhCAnquUfmmuLgEWz",
   "provenance": []
  },
  "kernelspec": {
   "display_name": "Python 3 (ipykernel)",
   "language": "python",
   "name": "python3"
  },
  "language_info": {
   "codemirror_mode": {
    "name": "ipython",
    "version": 3
   },
   "file_extension": ".py",
   "mimetype": "text/x-python",
   "name": "python",
   "nbconvert_exporter": "python",
   "pygments_lexer": "ipython3",
   "version": "3.12.7"
  }
 },
 "nbformat": 4,
 "nbformat_minor": 4
}
