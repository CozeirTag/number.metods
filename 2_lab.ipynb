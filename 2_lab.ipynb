{
 "cells": [
  {
   "cell_type": "code",
   "execution_count": 13,
   "id": "dbceb222-33f5-43f2-bc09-79d29327aaa0",
   "metadata": {},
   "outputs": [],
   "source": [
    "import numpy as np"
   ]
  },
  {
   "cell_type": "code",
   "execution_count": 37,
   "id": "4e0aaa85-7e67-4e1b-be36-d02ef1ddfaf2",
   "metadata": {},
   "outputs": [],
   "source": [
    "def myLagrange(x_ar, y_ar):\n",
    "    L = 0\n",
    "    for j in range(len(x_ar)):\n",
    "        product = 1\n",
    "        for i in range(len(x_ar)):\n",
    "            if i != j:\n",
    "                product *= np.poly1d([1, -x[i]]) / (x[j] - x[i])\n",
    "        L += y[j] * product\n",
    "    return L"
   ]
  },
  {
   "cell_type": "code",
   "execution_count": 38,
   "id": "cdebe4aa-a147-485a-9281-fa0bd2e86f8f",
   "metadata": {},
   "outputs": [],
   "source": [
    "x = [0, 1, 2]\n",
    "y = []\n",
    "for elem in x:\n",
    "    y.append(np.exp(elem))"
   ]
  },
  {
   "cell_type": "code",
   "execution_count": 39,
   "id": "7bf0a48a-41a7-48a3-b5f0-6f6fa6b880a0",
   "metadata": {},
   "outputs": [
    {
     "data": {
      "text/plain": [
       "[1.0, 2.718281828459045, 7.38905609893065]"
      ]
     },
     "execution_count": 39,
     "metadata": {},
     "output_type": "execute_result"
    }
   ],
   "source": [
    "y"
   ]
  },
  {
   "cell_type": "code",
   "execution_count": 40,
   "id": "6eaa9c7b-b52c-4d0a-8110-4bd656ff4b76",
   "metadata": {},
   "outputs": [
    {
     "name": "stdout",
     "output_type": "stream",
     "text": [
      "[1.47624622 0.24203561 1.        ]\n"
     ]
    }
   ],
   "source": [
    "print(myLagrange(x, y))"
   ]
  }
 ],
 "metadata": {
  "kernelspec": {
   "display_name": "Python 3 (ipykernel)",
   "language": "python",
   "name": "python3"
  },
  "language_info": {
   "codemirror_mode": {
    "name": "ipython",
    "version": 3
   },
   "file_extension": ".py",
   "mimetype": "text/x-python",
   "name": "python",
   "nbconvert_exporter": "python",
   "pygments_lexer": "ipython3",
   "version": "3.12.7"
  }
 },
 "nbformat": 4,
 "nbformat_minor": 5
}
